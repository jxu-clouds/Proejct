{
 "cells": [
  {
   "cell_type": "code",
   "execution_count": 1,
   "id": "a6305e10",
   "metadata": {},
   "outputs": [],
   "source": [
    " import csv"
   ]
  },
  {
   "cell_type": "code",
   "execution_count": 2,
   "id": "c0412c35",
   "metadata": {},
   "outputs": [],
   "source": [
    "#create a new csvfile and write header \n",
    "with open('asset.csv','a',encoding='utf-8',newline='') as csvfile:\n",
    "    writer=csv.writer(csvfile,dialect='excel')\n",
    "    header=['小区名称','小区地址','楼栋号','建筑年份','单元号','户室号','朝向','面积']\n",
    "    writer.writerow(header)"
   ]
  },
  {
   "cell_type": "code",
   "execution_count": 3,
   "id": "96c31537",
   "metadata": {},
   "outputs": [
    {
     "name": "stdout",
     "output_type": "stream",
     "text": [
      "请输入小区名称xx花园\n",
      "请输入小区地址123\n",
      "请输入小区楼栋号1\n",
      "请输入建筑年份1980\n"
     ]
    }
   ],
   "source": [
    "#get some basic info\n",
    "\n",
    "asset_name=input('请输入小区名称')\n",
    "asset_address=input('请输入小区地址')\n",
    "block=input('请输入小区楼栋号')\n",
    "year=input('请输入建筑年份')"
   ]
  },
  {
   "cell_type": "code",
   "execution_count": 4,
   "id": "dcc12b32",
   "metadata": {},
   "outputs": [
    {
     "name": "stdout",
     "output_type": "stream",
     "text": [
      "请输入单元号1\n",
      "请输入起始楼层3\n",
      "请输入终止楼层7\n",
      "接下来请依次输入起始楼层的户室号，朝向，面积\n",
      "请输入起始楼层的最后两位户室号01\n",
      "请输入301朝向，1为东西，2为南北1\n",
      "请输入301户室的面积80\n",
      "是否要继续输入下一个户室,不继续输入按n,按任意键继续输入下一个户室\n",
      "请输入起始楼层的最后两位户室号02\n",
      "请输入302朝向，1为东西，2为南北1\n",
      "请输入302户室的面积80\n",
      "是否要继续输入下一个户室,不继续输入按n,按任意键继续输入下一个户室\n",
      "请输入起始楼层的最后两位户室号03\n",
      "请输入303朝向，1为东西，2为南北2\n",
      "请输入303户室的面积90\n",
      "是否要继续输入下一个户室,不继续输入按n,按任意键继续输入下一个户室\n",
      "请输入起始楼层的最后两位户室号04\n",
      "请输入304朝向，1为东西，2为南北2\n",
      "请输入304户室的面积90\n",
      "是否要继续输入下一个户室,不继续输入按n,按任意键继续输入下一个户室n\n",
      "请输入是否继续下一个单元的信息，不输入按n，按任意键继续输入n\n",
      "恭喜您，结束资产录入\n"
     ]
    }
   ],
   "source": [
    "#start with unit loop\n",
    "\n",
    "unit_loop=True\n",
    "\n",
    "while unit_loop:\n",
    "    unit=input('请输入单元号')\n",
    "    start_floor=input('请输入起始楼层')\n",
    "    end_floor=input('请输入终止楼层')\n",
    "    input('接下来请依次输入起始楼层的户室号，朝向，面积')\n",
    "    start_floor_rooms={}\n",
    "    floor_last_number=[]\n",
    "    \n",
    "#start with room loop\n",
    "#ask user to enter start floor info as sample \n",
    "    room_loop=True\n",
    "    while room_loop:\n",
    "        last_number=input('请输入起始楼层的最后两位户室号')\n",
    "        room_number=start_floor+last_number\n",
    "        floor_last_number.append(last_number)\n",
    "        direction=input('请输入%s朝向，1为东西，2为南北'%(room_number))\n",
    "        area=input('请输入%s户室的面积'%(room_number))\n",
    "        start_floor_rooms[room_number]=[direction,area]\n",
    "        continued=input('是否要继续输入下一个户室,不继续输入按n,按任意键继续输入下一个户室')\n",
    "        if continued=='n':\n",
    "            room_loop=False\n",
    "        else:\n",
    "            room_loop=True\n",
    "            \n",
    "#use the start floor info as sample to get the remaining floor info\n",
    "#create a new dictionary and put the start floor info into it \n",
    "\n",
    "    unit_rooms={}\n",
    "    unit_rooms[start_floor]=start_floor_rooms\n",
    "    \n",
    "#use the for loop to based on unit_rooms info to get the remaining floor info \n",
    "\n",
    "    for floor in range(int(start_floor)+1,int(end_floor)+1):\n",
    "        floor_rooms={}\n",
    "        for i in range(len(start_floor_rooms)):\n",
    "            room_number=str(floor)+floor_last_number[i]\n",
    "            info=start_floor_rooms[start_floor+floor_last_number[i]]\n",
    "            floor_rooms[room_number]=info\n",
    "        unit_rooms[floor]=floor_rooms\n",
    "        \n",
    "#write the info into the csvfile that we created at beginning\n",
    "\n",
    "    with open('asset.csv','a',encoding='utf-8',newline='') as csvfile:\n",
    "        writer=csv.writer(csvfile,dialect='excel')\n",
    "        for subdict in unit_rooms.values():\n",
    "            for k,v in subdict.items():\n",
    "                #use if statement to change dirction info\n",
    "                if v[0]=='1':\n",
    "                    v[0]='东西'\n",
    "                else:\n",
    "                    v[0]='南北'\n",
    "                writer.writerow([asset_name,asset_address,block,year,unit,k,v[0],v[1]])\n",
    "#ask if we need to continue with next unit info\n",
    "\n",
    "    continued=input('请输入是否继续下一个单元的信息，不输入按n，按任意键继续输入')\n",
    "\n",
    "    if continued=='n':\n",
    "        unit_loop=False\n",
    "\n",
    "    else:\n",
    "        unit_loop=True\n",
    "\n",
    "    \n",
    "print('恭喜您，结束资产录入')\n",
    "\n",
    "            \n",
    "        \n",
    "        \n",
    "        \n",
    "        "
   ]
  },
  {
   "cell_type": "code",
   "execution_count": null,
   "id": "3280a0e9",
   "metadata": {},
   "outputs": [],
   "source": []
  },
  {
   "cell_type": "code",
   "execution_count": null,
   "id": "961c4ea9",
   "metadata": {},
   "outputs": [],
   "source": []
  },
  {
   "cell_type": "code",
   "execution_count": null,
   "id": "41eaff0e",
   "metadata": {},
   "outputs": [],
   "source": []
  },
  {
   "cell_type": "code",
   "execution_count": null,
   "id": "d8ab1d92",
   "metadata": {},
   "outputs": [],
   "source": []
  }
 ],
 "metadata": {
  "kernelspec": {
   "display_name": "Python 3 (ipykernel)",
   "language": "python",
   "name": "python3"
  },
  "language_info": {
   "codemirror_mode": {
    "name": "ipython",
    "version": 3
   },
   "file_extension": ".py",
   "mimetype": "text/x-python",
   "name": "python",
   "nbconvert_exporter": "python",
   "pygments_lexer": "ipython3",
   "version": "3.11.3"
  }
 },
 "nbformat": 4,
 "nbformat_minor": 5
}
